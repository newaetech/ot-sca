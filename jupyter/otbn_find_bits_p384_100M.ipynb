{
 "cells": [
  {
   "cell_type": "markdown",
   "id": "356b7cfa-179d-4c65-9c33-e699016a546e",
   "metadata": {},
   "source": [
    "## Experiment with finding the bit start times, using traces previously collected by otbn_traces.ipynb:"
   ]
  },
  {
   "cell_type": "code",
   "execution_count": null,
   "id": "9ae4d21c-2225-4aa3-85bc-ba3868d26e24",
   "metadata": {},
   "outputs": [],
   "source": [
    "import numpy as np\n",
    "waves = [np.load('waves_p384_100M_half1half0_again.npy')]\n",
    "#waves = [np.load('waves_p384_100M_half1half0.npy')]\n",
    "#waves = [np.load('waves_p384_100M_64b_patterned_again.npy')]\n",
    "#waves = [np.load('waves_p384_100M_half0half1.npy')]\n",
    "#waves = [np.load('waves_p384_100M_160ones96zeros.npy')]\n",
    "#waves = [np.load('waves_p384_100M_128ones128zeros128ones.npy')]\n",
    "#waves = np.load('waves_p384_100M_130k_samples.npy')\n",
    "#waves = np.load('waves_p384_100M_leading1.npy')"
   ]
  },
  {
   "cell_type": "code",
   "execution_count": null,
   "id": "e8835b40-ef11-4571-8406-0c8f3c07cd71",
   "metadata": {},
   "outputs": [],
   "source": [
    "samples = 800000\n",
    "#samples = len(waves[0])\n",
    "base = 0"
   ]
  },
  {
   "cell_type": "code",
   "execution_count": null,
   "id": "363641b3-9c02-48fa-88a0-a834872ff5fe",
   "metadata": {},
   "outputs": [],
   "source": [
    "import holoviews as hv\n",
    "from holoviews.operation import decimate\n",
    "from holoviews.operation.datashader import datashade\n",
    "hv.extension('bokeh')\n",
    "datashade(hv.Curve(waves[0][base:base+samples])).opts(width=2000, height=800)"
   ]
  },
  {
   "cell_type": "markdown",
   "id": "04cd0ec6-b60f-488d-9bbf-73146acbb539",
   "metadata": {},
   "source": [
    "### HPF helps clean up the trace, especially at higher samples rates:"
   ]
  },
  {
   "cell_type": "code",
   "execution_count": null,
   "id": "0526fbd1-7d5b-41ad-9772-5a43a86f1fd2",
   "metadata": {},
   "outputs": [],
   "source": [
    "import numpy as np\n",
    "import pandas as pd\n",
    "from scipy import signal\n",
    "\n",
    "def butter_highpass(cutoff, fs, order=5):\n",
    "    nyq = 0.5 * fs\n",
    "    normal_cutoff = cutoff / nyq \n",
    "    b, a = signal.butter(order, normal_cutoff, btype='high', analog=False)\n",
    "    return b, a\n",
    "\n",
    "def butter_highpass_filter(data, cutoff, fs, order=9):\n",
    "    b, a = butter_highpass(cutoff, fs, order=order)\n",
    "    y = signal.filtfilt(b, a, data)\n",
    "    return y\n",
    "\n",
    "filtered_waves = []\n",
    "for wave in waves:\n",
    "        filtered_waves.append(butter_highpass_filter(wave, 6e6, 100e6))"
   ]
  },
  {
   "cell_type": "code",
   "execution_count": null,
   "id": "b211b3f1-22af-4f1d-a108-404b4605a646",
   "metadata": {
    "tags": []
   },
   "outputs": [],
   "source": [
    "#samples = len(waves[0])\n",
    "samples = 600000\n",
    "base = 0\n",
    "\n",
    "#samples = 100\n",
    "#base = 5000007\n",
    "import holoviews as hv\n",
    "from holoviews.operation import decimate\n",
    "from holoviews.operation.datashader import datashade, shade, dynspread\n",
    "hv.extension('bokeh')\n",
    "\n",
    "w0 = datashade(hv.Curve(waves[0][base:base+samples]), cmap=['green'])\n",
    "wf = datashade(hv.Curve((filtered_waves[0][base:base+samples])), cmap=['black'])\n",
    "\n",
    "#(w0 * wf).opts(width=2000, height=900)\n",
    "(wf).opts(width=2000, height=600)"
   ]
  },
  {
   "cell_type": "markdown",
   "id": "28257a7b-12ac-4dcc-9ac5-38604d785927",
   "metadata": {},
   "source": [
    "### Take a moving average to more easily identify the idle periods which separate the bits of k:"
   ]
  },
  {
   "cell_type": "code",
   "execution_count": null,
   "id": "194c89b8-e915-412c-a3b9-10a6084925aa",
   "metadata": {},
   "outputs": [],
   "source": [
    "def moving_average(x, w):\n",
    "    return np.convolve(x, np.ones(w), 'valid') / w"
   ]
  },
  {
   "cell_type": "code",
   "execution_count": null,
   "id": "b1bc38df-0f50-40ff-a8fb-a8520ff5fb40",
   "metadata": {},
   "outputs": [],
   "source": [
    "#mfw = moving_average(np.abs(filtered_waves[0]), 2000)\n",
    "mfw = moving_average(np.abs(filtered_waves[0]), 1000)\n",
    "\n",
    "#samples = 600000\n",
    "samples = len(mfw)\n",
    "base = 0\n",
    "\n",
    "mwf = datashade(hv.Curve(mfw[base:base+samples]), cmap=['black'])\n",
    "mwf.opts(width=2000, height=600)"
   ]
  },
  {
   "cell_type": "code",
   "execution_count": null,
   "id": "1d00b35a-80c7-48f6-9ac5-0bef1a476d48",
   "metadata": {},
   "outputs": [],
   "source": [
    "from scipy.signal import find_peaks\n",
    "peaks, _ = find_peaks(-mfw[base:base+samples], distance=20000)"
   ]
  },
  {
   "cell_type": "code",
   "execution_count": null,
   "id": "10484fa3-37bb-4d08-9f4e-36b7411e8099",
   "metadata": {
    "tags": []
   },
   "outputs": [],
   "source": [
    "len(peaks)#, peaks"
   ]
  },
  {
   "cell_type": "markdown",
   "id": "b207297f-67ac-4daf-b063-e697cfe82169",
   "metadata": {},
   "source": [
    "### Extract the bit start times: skip the first three peaks, then take every other:"
   ]
  },
  {
   "cell_type": "code",
   "execution_count": null,
   "id": "a0ea3e65-2463-489e-80d5-63d3216a2b99",
   "metadata": {},
   "outputs": [],
   "source": [
    "raw_bit_starts = peaks[3::2]"
   ]
  },
  {
   "cell_type": "code",
   "execution_count": null,
   "id": "14ec0f5f-c869-4d3d-a70f-22076962ef50",
   "metadata": {},
   "outputs": [],
   "source": [
    "len(raw_bit_starts)"
   ]
  },
  {
   "cell_type": "code",
   "execution_count": null,
   "id": "95550c8a-b77f-48e6-ac49-2c3305f732e6",
   "metadata": {},
   "outputs": [],
   "source": [
    "# trim the end:\n",
    "raw_bit_starts = raw_bit_starts[:256]"
   ]
  },
  {
   "cell_type": "code",
   "execution_count": null,
   "id": "b9e443e4-6617-4eb4-913b-23a1b2d2d235",
   "metadata": {},
   "outputs": [],
   "source": [
    "raw_bit_starts[0], raw_bit_starts[-1]"
   ]
  },
  {
   "cell_type": "code",
   "execution_count": null,
   "id": "480f4f3b-a1b8-4e53-a2d7-3352346a4e0a",
   "metadata": {},
   "outputs": [],
   "source": [
    "# visualize the start times:\n",
    "from operator import mul\n",
    "from functools import reduce\n",
    "\n",
    "starts = [hv.VLine(b) for b in raw_bit_starts]\n",
    "(mwf * reduce(mul, starts)).opts(width=2000, height=600)"
   ]
  },
  {
   "cell_type": "code",
   "execution_count": null,
   "id": "8129a9a2-72fe-4328-8d93-2f23ce3483a0",
   "metadata": {
    "tags": []
   },
   "outputs": [],
   "source": [
    "deltas = []\n",
    "for i in range(len(raw_bit_starts)-2):\n",
    "    delta = raw_bit_starts[i+1] - raw_bit_starts[i]\n",
    "    deltas.append(delta)\n",
    "    #print(delta)\n",
    "    "
   ]
  },
  {
   "cell_type": "code",
   "execution_count": null,
   "id": "7f4adf06-4bb1-4239-8660-8e69b83fac68",
   "metadata": {},
   "outputs": [],
   "source": [
    "duration = int(np.average(deltas))\n",
    "duration, max(deltas)-min(deltas)"
   ]
  },
  {
   "cell_type": "code",
   "execution_count": null,
   "id": "5c3de2c6-f13a-4729-aab1-b8ef818a6725",
   "metadata": {},
   "outputs": [],
   "source": [
    "duration*384"
   ]
  },
  {
   "cell_type": "markdown",
   "id": "ce2b8e51-7702-446b-8f30-a83b1ab9548c",
   "metadata": {},
   "source": [
    "### Perhaps it's better to take the average bit duration as the duration of each bit?\n",
    "\n",
    "(spoiler: no it's not)"
   ]
  },
  {
   "cell_type": "code",
   "execution_count": null,
   "id": "4912ad46-220b-4f0b-acbb-c55681e1a50a",
   "metadata": {},
   "outputs": [],
   "source": [
    "even_starts = []\n",
    "for i in range(256):\n",
    "    even_starts.append(raw_bit_starts[0] + i*duration)\n",
    "    #even_starts.append(raw_bit_starts[0] + i*54805)"
   ]
  },
  {
   "cell_type": "code",
   "execution_count": null,
   "id": "203b5e5c-72d9-4d5a-93d2-c0d744a8cf30",
   "metadata": {},
   "outputs": [],
   "source": [
    "# which to use:\n",
    "bit_starts = raw_bit_starts\n",
    "#bit_starts = even_starts"
   ]
  },
  {
   "cell_type": "markdown",
   "id": "a007d405-9e34-47be-87e7-168ee86defbf",
   "metadata": {},
   "source": [
    "# Superimpose all the bits!\n",
    "Plot overlayed bit traces to visualize alignment and guess at success of time extraction:"
   ]
  },
  {
   "cell_type": "code",
   "execution_count": null,
   "id": "b2a5103f-f00d-4d41-9a83-f5efe4ce72ec",
   "metadata": {},
   "outputs": [],
   "source": [
    "bits = []\n",
    "bit_size = duration\n",
    "for start in bit_starts:\n",
    "    bits.append(filtered_waves[0][start:start+bit_size])"
   ]
  },
  {
   "cell_type": "code",
   "execution_count": null,
   "id": "96f154f7-9289-46bc-ab10-2be2f0be7c61",
   "metadata": {
    "tags": []
   },
   "outputs": [],
   "source": [
    "# Can't plot more than 22 bits due to palette:\n",
    "#numbits = len(bits)\n",
    "numbits = 22\n",
    "\n",
    "import holoviews as hv\n",
    "from holoviews.operation import decimate\n",
    "from holoviews.operation.datashader import datashade, shade, dynspread\n",
    "from holoviews import opts\n",
    "import datashader as ds\n",
    "\n",
    "hv.extension('bokeh')\n",
    "\n",
    "lines = {i: hv.Curve(np.asarray(bits[i])) for i in range(len(bits[:numbits]))}\n",
    "linespread = dynspread(datashade(hv.NdOverlay(lines, kdims='k'), aggregator=ds.by('k', ds.count())))\n",
    "linespread.opts(opts.RGB(width=2400, height=1200))\n"
   ]
  },
  {
   "cell_type": "code",
   "execution_count": null,
   "id": "5a95958d-8957-41ef-ae2b-76899ce99abb",
   "metadata": {},
   "outputs": [],
   "source": [
    "# Can plot all the bits, but it's slow:\n",
    "#numbits = len(bits)\n",
    "numbits = 10\n",
    "\n",
    "import holoviews as hv\n",
    "from holoviews.operation import decimate\n",
    "from holoviews.operation.datashader import datashade, shade, dynspread\n",
    "hv.extension('bokeh')\n",
    "\n",
    "#xrange = range(duration)\n",
    "\n",
    "from operator import mul\n",
    "from functools import reduce\n",
    "\n",
    "curves = [hv.Curve(bits[i]) for i in range(numbits)]\n",
    "\n",
    "reduce(mul, curves).opts(width=2000, height=900)"
   ]
  },
  {
   "cell_type": "markdown",
   "id": "7358cce1-5cc6-49bd-9912-e67e1de23db2",
   "metadata": {},
   "source": [
    "# Average 'one' and 'zero':\n",
    "Let's see if simple difference-of-means reveals anything."
   ]
  },
  {
   "cell_type": "code",
   "execution_count": null,
   "id": "9610e1d2-bb9b-4a9a-939d-96cc6f7bfa26",
   "metadata": {},
   "outputs": [],
   "source": [
    "avg_trace = np.zeros(duration)\n",
    "avg_ones = np.zeros(duration)\n",
    "avg_zeros = np.zeros(duration)\n",
    "\n",
    "for i in range(len(bit_starts)):\n",
    "    avg_trace += bits[i][:duration]\n",
    "    # CAUTION: this is for k = {128 ones, 128 zeros}; adjust for different k:\n",
    "    if i < 128:\n",
    "        avg_ones += bits[i][:duration]\n",
    "    else:\n",
    "        avg_zeros += bits[i][:duration]\n",
    "\n",
    "avg_trace /= len(bit_starts)\n",
    "avg_ones /= len(bit_starts)/2\n",
    "avg_zeros /= len(bit_starts)/2\n"
   ]
  },
  {
   "cell_type": "code",
   "execution_count": null,
   "id": "492c5763-f5cf-477a-a42a-497095e729a1",
   "metadata": {},
   "outputs": [],
   "source": [
    "import holoviews as hv\n",
    "from holoviews.operation import decimate\n",
    "from holoviews.operation.datashader import datashade, shade, dynspread\n",
    "hv.extension('bokeh')\n",
    "\n",
    "xrange = range(duration)\n",
    "\n",
    "cavg_all = datashade(hv.Curve(avg_trace), cmap=['black'])\n",
    "cavg_ones = datashade(hv.Curve(avg_ones), cmap=['blue'])\n",
    "cavg_zeros = datashade(hv.Curve(avg_zeros), cmap=['green'])\n",
    "\n",
    "cdiff = datashade(hv.Curve((avg_ones - avg_zeros)), cmap=['red'])\n",
    "\n",
    "#(cavg_all * cavg_ones * cavg_zeros).opts(width=2000, height=900)\n",
    "#(cavg_zeros * cavg_ones).opts(width=2000, height=900)\n",
    "#(cavg_ones * cavg_zeros).opts(width=2000, height=900)\n",
    "(cdiff).opts(width=2000, height=600)"
   ]
  },
  {
   "cell_type": "code",
   "execution_count": null,
   "id": "af884e53-8dcf-4575-bf42-011b30a9073a",
   "metadata": {},
   "outputs": [],
   "source": [
    "markers = np.where(abs(avg_ones - avg_zeros) > 0.014)[0] # half/half"
   ]
  },
  {
   "cell_type": "code",
   "execution_count": null,
   "id": "5e0b3cf4-9e8f-452b-8f9b-1ca086473ebc",
   "metadata": {
    "tags": []
   },
   "outputs": [],
   "source": [
    "len(markers)#, markers"
   ]
  },
  {
   "cell_type": "code",
   "execution_count": null,
   "id": "e71e534a-68a6-4b5d-9142-2022d9c40898",
   "metadata": {},
   "outputs": [],
   "source": [
    "# save markers for attacking other traces:\n",
    "#np.save('markers_p384_100M.npy', markers)\n",
    "#markers = np.load('markers_p384_100M.npy')"
   ]
  },
  {
   "cell_type": "code",
   "execution_count": null,
   "id": "f5fb38d6-2ccd-4125-8d11-4e61b9df537b",
   "metadata": {},
   "outputs": [],
   "source": [
    "scores = []\n",
    "#for b in bit_starts:\n",
    "for b in range(len(bit_starts)):\n",
    "    score = 0\n",
    "    for marker in markers:\n",
    "        #score += abs(filtered_waves[0][b + marker])\n",
    "        score += abs(bits[b][marker])\n",
    "    scores.append(score)"
   ]
  },
  {
   "cell_type": "code",
   "execution_count": null,
   "id": "c3a7bc88-b386-471c-9a2f-6b922c6f4a79",
   "metadata": {},
   "outputs": [],
   "source": [
    "cscores = hv.Curve(scores)\n",
    "(cscores * hv.VLine(128)).opts(width=2000, height=600)"
   ]
  },
  {
   "cell_type": "code",
   "execution_count": null,
   "id": "7f2c0d66-6c7c-45a9-9d5d-f39b905cf34e",
   "metadata": {},
   "outputs": [],
   "source": [
    "np.average(scores[12:128]), np.average(scores[128:256])"
   ]
  },
  {
   "cell_type": "code",
   "execution_count": null,
   "id": "15d6c3e8-b887-4734-80b4-70201f5b162d",
   "metadata": {},
   "outputs": [],
   "source": []
  }
 ],
 "metadata": {
  "kernelspec": {
   "display_name": "Python (venv37)",
   "language": "python",
   "name": "venv37"
  },
  "language_info": {
   "codemirror_mode": {
    "name": "ipython",
    "version": 3
   },
   "file_extension": ".py",
   "mimetype": "text/x-python",
   "name": "python",
   "nbconvert_exporter": "python",
   "pygments_lexer": "ipython3",
   "version": "3.7.4"
  }
 },
 "nbformat": 4,
 "nbformat_minor": 5
}
