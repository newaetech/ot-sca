{
 "cells": [
  {
   "cell_type": "markdown",
   "id": "356b7cfa-179d-4c65-9c33-e699016a546e",
   "metadata": {},
   "source": [
    "## Experiment with finding the bit start times, using traces previously collected by otbn_traces.ipynb:\n",
    "\n",
    "For p384 low-frequency streamed captures."
   ]
  },
  {
   "cell_type": "code",
   "execution_count": null,
   "id": "9ae4d21c-2225-4aa3-85bc-ba3868d26e24",
   "metadata": {},
   "outputs": [],
   "source": [
    "import numpy as np\n",
    "#waves = np.load('waves_p384_22M_half1half0.npy')\n",
    "#waves = np.load('waves_p384_22M_half1half0_32b_patterned.npy')\n",
    "waves = np.load('waves_p384_22M_set.npy') # waves[0]: half ones/half zeros; [1]: sames but starts with 0x1fff...; [2]: alternating 32 ones / 32 zeros; [3]: alternating 16 ones / 16 zeros"
   ]
  },
  {
   "cell_type": "code",
   "execution_count": null,
   "id": "891dcccc-a006-4750-9727-dc8eba734102",
   "metadata": {},
   "outputs": [],
   "source": [
    "base = 0\n",
    "samples = 600000"
   ]
  },
  {
   "cell_type": "code",
   "execution_count": null,
   "id": "363641b3-9c02-48fa-88a0-a834872ff5fe",
   "metadata": {},
   "outputs": [],
   "source": [
    "import holoviews as hv\n",
    "from holoviews.operation import decimate\n",
    "from holoviews.operation.datashader import datashade\n",
    "hv.extension('bokeh')\n",
    "#datashade(hv.Curve(waves[0][base:base+samples]-waves[9][base:base+samples])).opts(width=2000, height=900)\n",
    "datashade(hv.Curve(waves[0][base:base+samples])).opts(width=2000, height=800)"
   ]
  },
  {
   "cell_type": "markdown",
   "id": "d15de061-2dd6-45cd-b4db-2545bc2a4b54",
   "metadata": {},
   "source": [
    "By looking at the difference between `waves[0]` (k=0xfff...) and `waves[1]` (k=0x1fff...) we can observe the leading 1 leakage and at the same time confirm when the first bit of k is processed:"
   ]
  },
  {
   "cell_type": "code",
   "execution_count": null,
   "id": "df495d66-ede0-4e9b-8d1d-23324585b930",
   "metadata": {},
   "outputs": [],
   "source": [
    "datashade(hv.Curve(waves[0][base:base+samples] - waves[1][base:base+samples])).opts(width=2000, height=800)"
   ]
  },
  {
   "cell_type": "markdown",
   "id": "04cd0ec6-b60f-488d-9bbf-73146acbb539",
   "metadata": {},
   "source": [
    "Next we apply a high-pass filter to clean up the trace. We want to flatten out the idle trace portions that separate the bits, so that we can more easily establish bit markers."
   ]
  },
  {
   "cell_type": "code",
   "execution_count": null,
   "id": "1857bd6b-0049-418f-9d2e-4d17ff61731a",
   "metadata": {},
   "outputs": [],
   "source": [
    "import numpy as np\n",
    "import pandas as pd\n",
    "from scipy import signal\n",
    "\n",
    "def butter_highpass(cutoff, fs, order=5):\n",
    "    nyq = 0.5 * fs\n",
    "    normal_cutoff = cutoff / nyq \n",
    "    b, a = signal.butter(order, normal_cutoff, btype='high', analog=False)\n",
    "    return b, a\n",
    "\n",
    "def butter_highpass_filter(data, cutoff, fs, order=9):\n",
    "    b, a = butter_highpass(cutoff, fs, order=order)\n",
    "    y = signal.filtfilt(b, a, data)\n",
    "    return y"
   ]
  },
  {
   "cell_type": "code",
   "execution_count": null,
   "id": "323240e6-d329-4b82-b867-32ec314acaf3",
   "metadata": {},
   "outputs": [],
   "source": [
    "filtered_waves = []\n",
    "for wave in waves:\n",
    "    filtered_waves.append(butter_highpass_filter(wave, 1e6, 100e6))"
   ]
  },
  {
   "cell_type": "markdown",
   "id": "3cf88ffc-3123-4a3f-9159-c4d0a6b45b12",
   "metadata": {},
   "source": [
    "Visualize the transformation:"
   ]
  },
  {
   "cell_type": "code",
   "execution_count": null,
   "id": "b211b3f1-22af-4f1d-a108-404b4605a646",
   "metadata": {
    "tags": []
   },
   "outputs": [],
   "source": [
    "import holoviews as hv\n",
    "from holoviews.operation import decimate\n",
    "from holoviews.operation.datashader import datashade, shade, dynspread\n",
    "hv.extension('bokeh')\n",
    "\n",
    "w0 = datashade(hv.Curve(waves[0][base:base+samples]), cmap=['green'])\n",
    "wf = datashade(hv.Curve((filtered_waves[0][base:base+samples])), cmap=['black'])\n",
    "\n",
    "(w0 * wf).opts(width=2000, height=900)\n",
    "#(wf).opts(width=2000, height=600)"
   ]
  },
  {
   "cell_type": "markdown",
   "id": "0906a38f-44da-4f46-b59c-7f8ad4a4491d",
   "metadata": {},
   "source": [
    "Now we're ready to use `waves[0]` to try to guess the bit start times.\n",
    "\n",
    "We'll be using the idle periods as a marker. Since the difference between idle / not idle is not so clean, a simple threshold may not work so well, so let's apply a moving average:"
   ]
  },
  {
   "cell_type": "code",
   "execution_count": null,
   "id": "194c89b8-e915-412c-a3b9-10a6084925aa",
   "metadata": {},
   "outputs": [],
   "source": [
    "def moving_average(x, w):\n",
    "    return np.convolve(x, np.ones(w), 'valid') / w"
   ]
  },
  {
   "cell_type": "code",
   "execution_count": null,
   "id": "41d4586e-21e9-413d-9171-8fd562200bb7",
   "metadata": {},
   "outputs": [],
   "source": [
    "mfw = moving_average(np.abs(filtered_waves[0]), 1500)"
   ]
  },
  {
   "cell_type": "code",
   "execution_count": null,
   "id": "c79cb534-7ad2-4645-9dbe-d3612acf4637",
   "metadata": {},
   "outputs": [],
   "source": [
    "mwf = datashade(hv.Curve(mfw[base:base+samples]), cmap=['black'])\n",
    "mwf.opts(width=2000, height=600)"
   ]
  },
  {
   "cell_type": "markdown",
   "id": "79b47665-6e82-422e-85cd-051726aaed44",
   "metadata": {},
   "source": [
    "Looks nice and clean now! Next we pick out the peaks:"
   ]
  },
  {
   "cell_type": "code",
   "execution_count": null,
   "id": "1d00b35a-80c7-48f6-9ac5-0bef1a476d48",
   "metadata": {},
   "outputs": [],
   "source": [
    "from scipy.signal import find_peaks\n",
    "peaks, _ = find_peaks(-mfw[base:base+samples], distance=20000)"
   ]
  },
  {
   "cell_type": "code",
   "execution_count": null,
   "id": "10484fa3-37bb-4d08-9f4e-36b7411e8099",
   "metadata": {},
   "outputs": [],
   "source": [
    "len(peaks), peaks"
   ]
  },
  {
   "cell_type": "markdown",
   "id": "8ca414d0-8e1a-4180-9df5-b1bc620d5143",
   "metadata": {},
   "source": [
    "Note that we're not processing through the full power trace -- you'll see why soon.\n",
    "\n",
    "From the first plots at the start of this notebook, we're guessing that the first bit processing starts around sample 70000. That would be the fourth peak in the list above.\n",
    "\n",
    "We are also guessing that there are two peaks per bit. So we assemble our initial guess at bit start times like this:"
   ]
  },
  {
   "cell_type": "code",
   "execution_count": null,
   "id": "aa7d72f9-beba-467a-adf5-70b1cb494ab4",
   "metadata": {},
   "outputs": [],
   "source": [
    "bit_starts = peaks[3::2]"
   ]
  },
  {
   "cell_type": "code",
   "execution_count": null,
   "id": "14ec0f5f-c869-4d3d-a70f-22076962ef50",
   "metadata": {},
   "outputs": [],
   "source": [
    "len(bit_starts)"
   ]
  },
  {
   "cell_type": "markdown",
   "id": "5e162b78-3361-4b2e-a21f-42d49fd5e151",
   "metadata": {},
   "source": [
    "As a sanity check let's see where the chosen times are located:"
   ]
  },
  {
   "cell_type": "code",
   "execution_count": null,
   "id": "480f4f3b-a1b8-4e53-a2d7-3352346a4e0a",
   "metadata": {},
   "outputs": [],
   "source": [
    "from operator import mul\n",
    "from functools import reduce\n",
    "\n",
    "starts = [hv.VLine(b) for b in bit_starts]\n",
    "(mwf * reduce(mul, starts)).opts(width=2000, height=600)"
   ]
  },
  {
   "cell_type": "markdown",
   "id": "e1db6a5c-bd4f-41dd-bf2b-5a9dbc4fab10",
   "metadata": {},
   "source": [
    "Now let's look at the time delta between each bit:"
   ]
  },
  {
   "cell_type": "code",
   "execution_count": null,
   "id": "8129a9a2-72fe-4328-8d93-2f23ce3483a0",
   "metadata": {},
   "outputs": [],
   "source": [
    "deltas = []\n",
    "for i in range(len(bit_starts)-2):\n",
    "    delta = bit_starts[i+1] - bit_starts[i]\n",
    "    deltas.append(delta)\n",
    "    print(delta)\n",
    "    "
   ]
  },
  {
   "cell_type": "code",
   "execution_count": null,
   "id": "7f4adf06-4bb1-4239-8660-8e69b83fac68",
   "metadata": {},
   "outputs": [],
   "source": [
    "avg_duration = int(np.average(deltas))\n",
    "avg_duration, max(deltas)-min(deltas)"
   ]
  },
  {
   "cell_type": "markdown",
   "id": "a0295d59-4fa1-45e6-ae6d-7f17d5d5d344",
   "metadata": {},
   "source": [
    "The deltas are pretty consistent but there is some variation.\n",
    "\n",
    "As a sanity check, this should be a number less than the total operation time reported during trace acquisition:"
   ]
  },
  {
   "cell_type": "code",
   "execution_count": null,
   "id": "5c3de2c6-f13a-4729-aab1-b8ef818a6725",
   "metadata": {},
   "outputs": [],
   "source": [
    "avg_duration*384"
   ]
  },
  {
   "cell_type": "markdown",
   "id": "a007d405-9e34-47be-87e7-168ee86defbf",
   "metadata": {},
   "source": [
    "Now we can plot the power trace of each bit and see how they align:"
   ]
  },
  {
   "cell_type": "code",
   "execution_count": null,
   "id": "b2a5103f-f00d-4d41-9a83-f5efe4ce72ec",
   "metadata": {},
   "outputs": [],
   "source": [
    "bits = []\n",
    "for start in bit_starts:\n",
    "    bits.append(filtered_waves[0][start:start+avg_duration])"
   ]
  },
  {
   "cell_type": "code",
   "execution_count": null,
   "id": "5a95958d-8957-41ef-ae2b-76899ce99abb",
   "metadata": {},
   "outputs": [],
   "source": [
    "import holoviews as hv\n",
    "from holoviews.operation import decimate\n",
    "from holoviews.operation.datashader import datashade, shade, dynspread\n",
    "hv.extension('bokeh')\n",
    "\n",
    "from operator import mul\n",
    "from functools import reduce\n",
    "\n",
    "#curves = [hv.Curve(zip(xrange, filtered_waves[0][bit_starts[i]:bit_starts[i]+duration])) for i in range(numbits)]\n",
    "curves = [hv.Curve(bits[i]) for i in range(len(bits))]\n",
    "\n",
    "reduce(mul, curves).opts(width=2000, height=900)"
   ]
  },
  {
   "cell_type": "markdown",
   "id": "80b567cc-80d4-4357-a54c-6a891b6d69c9",
   "metadata": {},
   "source": [
    "Zoom in and you'll find not-so-great alignment.\n",
    "\n",
    "Let's guess that the bit processing times are actually constant. We adjust our guess for the bit start times like this:"
   ]
  },
  {
   "cell_type": "code",
   "execution_count": null,
   "id": "c3057f85-64a8-4aa9-9c7b-e753f8669799",
   "metadata": {},
   "outputs": [],
   "source": [
    "even_starts = []\n",
    "duration = avg_duration\n",
    "#duration = 46610\n",
    "for i in range(256):\n",
    "    even_starts.append(bit_starts[0] + i*duration)"
   ]
  },
  {
   "cell_type": "code",
   "execution_count": null,
   "id": "fbbe8ba0-2a72-4805-ab62-a725573dd40b",
   "metadata": {},
   "outputs": [],
   "source": [
    "bits = []\n",
    "for start in even_starts:\n",
    "    bits.append(filtered_waves[0][start:start+avg_duration])"
   ]
  },
  {
   "cell_type": "code",
   "execution_count": null,
   "id": "2a21fc8c-0875-499c-ab1b-428f8f68604b",
   "metadata": {},
   "outputs": [],
   "source": [
    "numbits = 10\n",
    "#numbits = len(bits) # possible but slow!\n",
    "curves = [hv.Curve(bits[i]) for i in range(numbits)]\n",
    "reduce(mul, curves).opts(width=2000, height=900)"
   ]
  },
  {
   "cell_type": "markdown",
   "id": "bb1ac59b-7a8b-47bd-b1b2-235de32c715b",
   "metadata": {},
   "source": [
    "Some tweaking to `avg_duration` may be required, but with the correct value you should see perfectly aligned peaks every 10 samples throughout."
   ]
  },
  {
   "cell_type": "markdown",
   "id": "7358cce1-5cc6-49bd-9912-e67e1de23db2",
   "metadata": {},
   "source": [
    "# Difference of Means attack\n",
    "\n",
    "Let's see if simple difference-of-means reveals anything.\n",
    "\n",
    "Using `waves[0]` we'll compute the average power trace for k=1 and for k=0, and see whether the difference between these two averages reveals a simple distinguisher that could be used to guess arbitrary k."
   ]
  },
  {
   "cell_type": "code",
   "execution_count": null,
   "id": "d8cc6bd7-baa7-4b8e-9ee6-bc73b3216512",
   "metadata": {},
   "outputs": [],
   "source": [
    "avg_trace = np.zeros(duration)\n",
    "avg_ones = np.zeros(duration)\n",
    "avg_zeros = np.zeros(duration)\n",
    "\n",
    "for i in range(len(bit_starts)):\n",
    "    avg_trace += bits[i][:duration]\n",
    "    if i < 128:\n",
    "        avg_ones += bits[i][:duration]\n",
    "    else:\n",
    "        avg_zeros += bits[i][:duration]\n",
    "\n",
    "avg_trace /= len(bit_starts)\n",
    "avg_ones /= len(bit_starts)/2\n",
    "avg_zeros /= len(bit_starts)/2\n"
   ]
  },
  {
   "cell_type": "code",
   "execution_count": null,
   "id": "492c5763-f5cf-477a-a42a-497095e729a1",
   "metadata": {},
   "outputs": [],
   "source": [
    "import holoviews as hv\n",
    "from holoviews.operation import decimate\n",
    "from holoviews.operation.datashader import datashade, shade, dynspread\n",
    "hv.extension('bokeh')\n",
    "\n",
    "cavg_all = datashade(hv.Curve(avg_trace), cmap=['black'])\n",
    "cavg_ones = datashade(hv.Curve(avg_ones), cmap=['blue'])\n",
    "cavg_zeros = datashade(hv.Curve(avg_zeros), cmap=['green'])\n",
    "\n",
    "cdiff = datashade(hv.Curve((avg_ones - avg_zeros)*10), cmap=['red'])\n",
    "\n",
    "#(cavg_all * cavg_ones * cavg_zeros).opts(width=2000, height=900)\n",
    "#(cavg_zeros * cavg_ones).opts(width=2000, height=900)\n",
    "#(cavg_ones * cavg_zeros).opts(width=2000, height=900)\n",
    "(cdiff).opts(width=2000, height=600)"
   ]
  },
  {
   "cell_type": "markdown",
   "id": "4420e6b9-5e93-4549-9e7f-1f151b006acf",
   "metadata": {},
   "source": [
    "There does seem to be a handful of sample times with a clear difference:"
   ]
  },
  {
   "cell_type": "code",
   "execution_count": null,
   "id": "061627a5-783f-4aa6-8402-004ca3a5291e",
   "metadata": {},
   "outputs": [],
   "source": [
    "markers = np.where((avg_ones - avg_zeros) > 0.003)[0]"
   ]
  },
  {
   "cell_type": "code",
   "execution_count": null,
   "id": "5e0b3cf4-9e8f-452b-8f9b-1ca086473ebc",
   "metadata": {},
   "outputs": [],
   "source": [
    "len(markers) #, markers"
   ]
  },
  {
   "cell_type": "code",
   "execution_count": null,
   "id": "3c9a83bd-7ccb-4cf7-a8b6-eca12e4e0ae9",
   "metadata": {},
   "outputs": [],
   "source": [
    "# save markers for attacking other traces:\n",
    "#np.save('markers_p384_25M.npy', markers)"
   ]
  },
  {
   "cell_type": "code",
   "execution_count": null,
   "id": "b9998596-21d4-468a-9027-816beeb46a4d",
   "metadata": {},
   "outputs": [],
   "source": [
    "#markers = np.load('markers_25M.npy')"
   ]
  },
  {
   "cell_type": "code",
   "execution_count": null,
   "id": "f5fb38d6-2ccd-4125-8d11-4e61b9df537b",
   "metadata": {},
   "outputs": [],
   "source": [
    "scores = []\n",
    "for b in range(len(bit_starts)):\n",
    "    score = 0\n",
    "    for marker in markers:\n",
    "        score += bits[b][marker]\n",
    "    scores.append(score)"
   ]
  },
  {
   "cell_type": "code",
   "execution_count": null,
   "id": "c3a7bc88-b386-471c-9a2f-6b922c6f4a79",
   "metadata": {},
   "outputs": [],
   "source": [
    "cscores = hv.Curve(scores)\n",
    "(cscores * hv.VLine(128)).opts(width=2000, height=600)"
   ]
  },
  {
   "cell_type": "markdown",
   "id": "14c29e9a-b4fa-4e5d-9007-203aad95ee08",
   "metadata": {},
   "source": [
    "This does seem to work: while we couldn't successfully guess all bits of k from this, there is a clear difference between the first and second halves.\n",
    "\n",
    "(Remember, k = {128 ones, 256 zeros} for this. We're only looking at the first 256 bits of k out of convenience because the full operation wasn't captured.)\n",
    "\n",
    "Before declaring victory, let's see what happens if k is less regular. Let's start with `waves[2]`, which has `k=0xffff0000ffff0000ffff0000ffff0000ffff0000ffff0000ffff0000ffff0000ffff0000ffff0000ffff0000ffff0000`.\n",
    "\n",
    "We'll keep the same markers but feed in a different traces. We will assume that the bit start times are unchanged (during trace acquisition we saw that the operation time did not change so this should be a safe bet)."
   ]
  },
  {
   "cell_type": "code",
   "execution_count": null,
   "id": "5f7af209-660e-4df2-b343-1f288eca64a4",
   "metadata": {},
   "outputs": [],
   "source": [
    "bits = []\n",
    "for start in even_starts:\n",
    "    bits.append(filtered_waves[2][start:start+avg_duration])"
   ]
  },
  {
   "cell_type": "code",
   "execution_count": null,
   "id": "bcb5b21d-b81a-4d88-9100-f3f5346af9f4",
   "metadata": {},
   "outputs": [],
   "source": [
    "scores = []\n",
    "for b in range(len(bit_starts)):\n",
    "    score = 0\n",
    "    for marker in markers:\n",
    "        score += bits[b][marker]\n",
    "    scores.append(score)"
   ]
  },
  {
   "cell_type": "code",
   "execution_count": null,
   "id": "6c824111-ba2f-42eb-a972-d19f7bd99922",
   "metadata": {},
   "outputs": [],
   "source": [
    "cscores = hv.Curve(scores)\n",
    "lines = [hv.VLine(b) for b in range(0, 256, 16)]\n",
    "(cscores * reduce(mul, lines)).opts(width=2000, height=600)"
   ]
  },
  {
   "cell_type": "markdown",
   "id": "ebb1670a-85d6-43c6-8ba2-59adf28ff324",
   "metadata": {},
   "source": [
    "Perhaps a little less clear visually, but numerically there is a difference:"
   ]
  },
  {
   "cell_type": "code",
   "execution_count": null,
   "id": "2327c32f-d48a-400e-96d7-d1922aba9879",
   "metadata": {},
   "outputs": [],
   "source": [
    "ones = 0\n",
    "zeros = 0\n",
    "for b in range(256):\n",
    "    if b % 32 < 16:\n",
    "        ones += scores[b]\n",
    "    else:\n",
    "        zeros += scores[b]"
   ]
  },
  {
   "cell_type": "code",
   "execution_count": null,
   "id": "1085d286-8a21-493d-9bc9-d229b954c646",
   "metadata": {},
   "outputs": [],
   "source": [
    "ones, zeros"
   ]
  },
  {
   "cell_type": "markdown",
   "id": "d69ace90-13f4-4d59-af98-a7e682235725",
   "metadata": {},
   "source": [
    "And finally, `waves[3]`, which has `k=0xff00ff00ff00ff00ff00ff00ff00ff00ff00ff00ff00ff00ff00ff00ff00ff00ff00ff00ff00ff00ff00ff00ff00ff00`:"
   ]
  },
  {
   "cell_type": "code",
   "execution_count": null,
   "id": "0ecf8b34-158d-450d-9ccd-5772c9891666",
   "metadata": {},
   "outputs": [],
   "source": [
    "bits = []\n",
    "for start in even_starts:\n",
    "    bits.append(filtered_waves[3][start:start+avg_duration])"
   ]
  },
  {
   "cell_type": "code",
   "execution_count": null,
   "id": "c6eb0db2-0e75-4448-822e-4588ad916ecd",
   "metadata": {},
   "outputs": [],
   "source": [
    "scores = []\n",
    "for b in range(len(bit_starts)):\n",
    "    score = 0\n",
    "    for marker in markers:\n",
    "        score += bits[b][marker]\n",
    "    scores.append(score)"
   ]
  },
  {
   "cell_type": "code",
   "execution_count": null,
   "id": "c2ff3e1e-b8de-45b1-ada7-7ebbec8ecaad",
   "metadata": {},
   "outputs": [],
   "source": [
    "cscores = hv.Curve(scores)\n",
    "lines = [hv.VLine(b) for b in range(0, 256, 8)]\n",
    "(cscores * reduce(mul, lines)).opts(width=2000, height=600)"
   ]
  },
  {
   "cell_type": "code",
   "execution_count": null,
   "id": "8c006308-cb13-422f-b42e-dfaa178fb791",
   "metadata": {},
   "outputs": [],
   "source": [
    "ones = 0\n",
    "zeros = 0\n",
    "for b in range(256):\n",
    "    if b % 16 < 8:\n",
    "        ones += scores[b]\n",
    "    else:\n",
    "        zeros += scores[b]\n",
    "\n",
    "ones, zeros"
   ]
  },
  {
   "cell_type": "code",
   "execution_count": null,
   "id": "c83da7c6-7f10-4451-896f-6cbc0b8e2d65",
   "metadata": {},
   "outputs": [],
   "source": []
  }
 ],
 "metadata": {
  "kernelspec": {
   "display_name": "Python (venv37)",
   "language": "python",
   "name": "venv37"
  },
  "language_info": {
   "codemirror_mode": {
    "name": "ipython",
    "version": 3
   },
   "file_extension": ".py",
   "mimetype": "text/x-python",
   "name": "python",
   "nbconvert_exporter": "python",
   "pygments_lexer": "ipython3",
   "version": "3.7.4"
  }
 },
 "nbformat": 4,
 "nbformat_minor": 5
}
